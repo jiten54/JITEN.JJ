{
 "cells": [
  {
   "cell_type": "code",
   "execution_count": 1,
   "metadata": {},
   "outputs": [
    {
     "name": "stdout",
     "output_type": "stream",
     "text": [
      "Requirement already satisfied: fastapi in c:\\users\\jiten\\appdata\\roaming\\python\\python312\\site-packages (0.115.12)\n",
      "Requirement already satisfied: uvicorn in c:\\users\\jiten\\appdata\\roaming\\python\\python312\\site-packages (0.34.0)\n",
      "Requirement already satisfied: starlette<0.47.0,>=0.40.0 in c:\\users\\jiten\\appdata\\roaming\\python\\python312\\site-packages (from fastapi) (0.46.1)\n",
      "Requirement already satisfied: pydantic!=1.8,!=1.8.1,!=2.0.0,!=2.0.1,!=2.1.0,<3.0.0,>=1.7.4 in c:\\users\\jiten\\appdata\\roaming\\python\\python312\\site-packages (from fastapi) (2.9.2)\n",
      "Requirement already satisfied: typing-extensions>=4.8.0 in c:\\users\\jiten\\appdata\\roaming\\python\\python312\\site-packages (from fastapi) (4.11.0)\n",
      "Requirement already satisfied: click>=7.0 in c:\\users\\jiten\\appdata\\roaming\\python\\python312\\site-packages (from uvicorn) (8.1.7)\n",
      "Requirement already satisfied: h11>=0.8 in c:\\users\\jiten\\appdata\\roaming\\python\\python312\\site-packages (from uvicorn) (0.14.0)\n",
      "Requirement already satisfied: colorama in c:\\users\\jiten\\appdata\\roaming\\python\\python312\\site-packages (from click>=7.0->uvicorn) (0.4.6)\n",
      "Requirement already satisfied: annotated-types>=0.6.0 in c:\\users\\jiten\\appdata\\roaming\\python\\python312\\site-packages (from pydantic!=1.8,!=1.8.1,!=2.0.0,!=2.0.1,!=2.1.0,<3.0.0,>=1.7.4->fastapi) (0.7.0)\n",
      "Requirement already satisfied: pydantic-core==2.23.4 in c:\\users\\jiten\\appdata\\roaming\\python\\python312\\site-packages (from pydantic!=1.8,!=1.8.1,!=2.0.0,!=2.0.1,!=2.1.0,<3.0.0,>=1.7.4->fastapi) (2.23.4)\n",
      "Requirement already satisfied: anyio<5,>=3.6.2 in c:\\users\\jiten\\appdata\\roaming\\python\\python312\\site-packages (from starlette<0.47.0,>=0.40.0->fastapi) (4.3.0)\n",
      "Requirement already satisfied: idna>=2.8 in c:\\users\\jiten\\appdata\\roaming\\python\\python312\\site-packages (from anyio<5,>=3.6.2->starlette<0.47.0,>=0.40.0->fastapi) (3.6)\n",
      "Requirement already satisfied: sniffio>=1.1 in c:\\users\\jiten\\appdata\\roaming\\python\\python312\\site-packages (from anyio<5,>=3.6.2->starlette<0.47.0,>=0.40.0->fastapi) (1.3.1)\n",
      "Note: you may need to restart the kernel to use updated packages.\n"
     ]
    }
   ],
   "source": [
    "pip install fastapi uvicorn\n"
   ]
  },
  {
   "cell_type": "code",
   "execution_count": 2,
   "metadata": {},
   "outputs": [
    {
     "name": "stdout",
     "output_type": "stream",
     "text": [
      "Requirement already satisfied: pylint in c:\\users\\jiten\\appdata\\roaming\\python\\python312\\site-packages (3.3.6)\n",
      "Requirement already satisfied: radon in c:\\users\\jiten\\appdata\\roaming\\python\\python312\\site-packages (6.0.1)\n",
      "Requirement already satisfied: flake8 in c:\\users\\jiten\\appdata\\roaming\\python\\python312\\site-packages (7.1.2)\n",
      "Requirement already satisfied: astroid<=3.4.0.dev0,>=3.3.8 in c:\\users\\jiten\\appdata\\roaming\\python\\python312\\site-packages (from pylint) (3.3.9)\n",
      "Requirement already satisfied: colorama>=0.4.5 in c:\\users\\jiten\\appdata\\roaming\\python\\python312\\site-packages (from pylint) (0.4.6)\n",
      "Requirement already satisfied: dill>=0.3.6 in c:\\users\\jiten\\appdata\\roaming\\python\\python312\\site-packages (from pylint) (0.3.8)\n",
      "Requirement already satisfied: isort!=5.13,<7,>=4.2.5 in c:\\users\\jiten\\appdata\\roaming\\python\\python312\\site-packages (from pylint) (6.0.1)\n",
      "Requirement already satisfied: mccabe<0.8,>=0.6 in c:\\users\\jiten\\appdata\\roaming\\python\\python312\\site-packages (from pylint) (0.7.0)\n",
      "Requirement already satisfied: platformdirs>=2.2 in c:\\users\\jiten\\appdata\\roaming\\python\\python312\\site-packages (from pylint) (4.2.0)\n",
      "Requirement already satisfied: tomlkit>=0.10.1 in c:\\users\\jiten\\appdata\\roaming\\python\\python312\\site-packages (from pylint) (0.13.2)\n",
      "Requirement already satisfied: mando<0.8,>=0.6 in c:\\users\\jiten\\appdata\\roaming\\python\\python312\\site-packages (from radon) (0.7.1)\n",
      "Requirement already satisfied: pycodestyle<2.13.0,>=2.12.0 in c:\\users\\jiten\\appdata\\roaming\\python\\python312\\site-packages (from flake8) (2.12.1)\n",
      "Requirement already satisfied: pyflakes<3.3.0,>=3.2.0 in c:\\users\\jiten\\appdata\\roaming\\python\\python312\\site-packages (from flake8) (3.2.0)\n",
      "Requirement already satisfied: six in c:\\users\\jiten\\appdata\\roaming\\python\\python312\\site-packages (from mando<0.8,>=0.6->radon) (1.16.0)\n",
      "Note: you may need to restart the kernel to use updated packages.\n"
     ]
    }
   ],
   "source": [
    "pip install pylint radon flake8\n"
   ]
  },
  {
   "cell_type": "code",
   "execution_count": 4,
   "metadata": {},
   "outputs": [
    {
     "name": "stdout",
     "output_type": "stream",
     "text": [
      "Collecting python-multipartNote: you may need to restart the kernel to use updated packages.\n",
      "\n",
      "  Downloading python_multipart-0.0.20-py3-none-any.whl.metadata (1.8 kB)\n",
      "Downloading python_multipart-0.0.20-py3-none-any.whl (24 kB)\n",
      "Installing collected packages: python-multipart\n",
      "Successfully installed python-multipart-0.0.20\n"
     ]
    }
   ],
   "source": [
    "pip install python-multipart\n"
   ]
  },
  {
   "cell_type": "code",
   "execution_count": 6,
   "metadata": {},
   "outputs": [
    {
     "name": "stdout",
     "output_type": "stream",
     "text": [
      "Requirement already satisfied: nest_asyncio in c:\\users\\jiten\\appdata\\roaming\\python\\python312\\site-packages (1.6.0)\n",
      "Note: you may need to restart the kernel to use updated packages.\n"
     ]
    }
   ],
   "source": [
    "pip install nest_asyncio\n"
   ]
  },
  {
   "cell_type": "code",
   "execution_count": null,
   "metadata": {},
   "outputs": [
    {
     "name": "stderr",
     "output_type": "stream",
     "text": [
      "INFO:     Started server process [17176]\n",
      "INFO:     Waiting for application startup.\n",
      "INFO:     Application startup complete.\n",
      "INFO:     Uvicorn running on http://0.0.0.0:8000 (Press CTRL+C to quit)\n"
     ]
    }
   ],
   "source": [
    "from fastapi import FastAPI, File, UploadFile\n",
    "import uvicorn\n",
    "import re\n",
    "import ast\n",
    "import asyncio\n",
    "\n",
    "app = FastAPI()\n",
    "\n",
    "def analyze_python_code(code: str):\n",
    "    score = 100\n",
    "    breakdown = {\n",
    "        \"naming\": 10,\n",
    "        \"modularity\": 20,\n",
    "        \"comments\": 20,\n",
    "        \"formatting\": 15,\n",
    "        \"reusability\": 15,\n",
    "        \"best_practices\": 20\n",
    "    }\n",
    "    recommendations = []\n",
    "    \n",
    "    # Naming conventions check\n",
    "    if re.search(r'def [A-Z]', code):\n",
    "        breakdown[\"naming\"] -= 2\n",
    "        recommendations.append(\"Use snake_case for function names in Python.\")\n",
    "    \n",
    "    # Function length check\n",
    "    try:\n",
    "        tree = ast.parse(code)\n",
    "        for node in ast.walk(tree):\n",
    "            if isinstance(node, ast.FunctionDef):\n",
    "                if len(node.body) > 10:\n",
    "                    breakdown[\"modularity\"] -= 5\n",
    "                    recommendations.append(f\"Function '{node.name}' is too long—consider refactoring.\")\n",
    "    except SyntaxError:\n",
    "        recommendations.append(\"Code contains syntax errors.\")\n",
    "    \n",
    "    # Formatting check\n",
    "    if \"\\t\" in code:\n",
    "        breakdown[\"formatting\"] -= 3\n",
    "        recommendations.append(\"Avoid using tabs, use spaces for indentation.\")\n",
    "    \n",
    "    # Comments and documentation check\n",
    "    if not re.search(r'\"\"\"|#', code):\n",
    "        breakdown[\"comments\"] -= 10\n",
    "        recommendations.append(\"Add comments or docstrings to improve readability.\")\n",
    "    \n",
    "    overall_score = sum(breakdown.values())\n",
    "    return {\"overall_score\": overall_score, \"breakdown\": breakdown, \"recommendations\": recommendations}\n",
    "\n",
    "@app.post(\"/analyze-code\")\n",
    "async def analyze_code(file: UploadFile = File(...)):\n",
    "    content = await file.read()\n",
    "    code = content.decode(\"utf-8\")\n",
    "    \n",
    "    if file.filename.endswith(\".py\"):\n",
    "        result = analyze_python_code(code)\n",
    "    else:\n",
    "        return {\"error\": \"Unsupported file type\"}\n",
    "    \n",
    "    return result\n",
    "\n",
    "if __name__ == \"__main__\":\n",
    "    import nest_asyncio\n",
    "    nest_asyncio.apply()\n",
    "    uvicorn.run(app, host=\"0.0.0.0\", port=8000)    \n"
   ]
  }
 ],
 "metadata": {
  "kernelspec": {
   "display_name": "base",
   "language": "python",
   "name": "python3"
  },
  "language_info": {
   "codemirror_mode": {
    "name": "ipython",
    "version": 3
   },
   "file_extension": ".py",
   "mimetype": "text/x-python",
   "name": "python",
   "nbconvert_exporter": "python",
   "pygments_lexer": "ipython3",
   "version": "3.12.4"
  }
 },
 "nbformat": 4,
 "nbformat_minor": 2
}
